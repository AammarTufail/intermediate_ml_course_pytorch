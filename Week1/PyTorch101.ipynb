{
  "cells": [
    {
      "cell_type": "markdown",
      "metadata": {
        "id": "zKgSFjxpwA6s"
      },
      "source": [
        "# Lab 01: Deep Neural Networks in PyTorch"
      ]
    },
    {
      "cell_type": "markdown",
      "metadata": {
        "id": "aoFvVW1VzwGW"
      },
      "source": [
        "Author Henrik Horst, opencampus.sh\n",
        "Co-Author Albert Sandritter, opencampus.sh\n",
        "24.10.2023"
      ]
    },
    {
      "cell_type": "markdown",
      "metadata": {
        "id": "Dcc_HN_v5xZG"
      },
      "source": [
        "## Overview"
      ]
    },
    {
      "cell_type": "markdown",
      "metadata": {
        "id": "VY99XVnY4nzZ"
      },
      "source": [
        "The goal of this first lab is to get you acquainted with the PyTorch library. As you will see, I commented quite heavily to enable this notebook to be a standalone tutorial where you always can come back to fill your knowledge gaps. For those who are quite annoyed by this.. it'll become better in future notebooks😊"
      ]
    },
    {
      "cell_type": "markdown",
      "metadata": {
        "id": "O6Ebf54H5vGZ"
      },
      "source": [
        "### PyTorch"
      ]
    },
    {
      "cell_type": "markdown",
      "metadata": {
        "id": "-Y04Dl3wwJ73"
      },
      "source": [
        "At its core, PyTorch is a library for\n",
        "- doing math on arrays(tensors)\n",
        "- automatic calculation of gradients (called Autograd)\n",
        "- acceleration with GPUs and distribution over multiple devices.\n",
        "\n",
        "Most of the time,\n",
        "we work at a remove from the core features of PyTorch,\n",
        "using abstractions from `torch.nn`\n",
        "or from frameworks on top of PyTorch."
      ]
    },
    {
      "cell_type": "code",
      "execution_count": 51,
      "metadata": {
        "id": "LM6LpP5tu6Ti"
      },
      "outputs": [],
      "source": [
        "import torch # this is the main PyTorch library\n",
        "import torchvision # this library belongs also to PyTorch - it is not included in the main lib (import torch) \\\n",
        "                   # because when you do no vision like for e.g. in language models you do not need it. \\\n",
        "                   # (Just in case you wondered why it is a separate package)\n",
        "import pandas as pd"
      ]
    },
    {
      "cell_type": "code",
      "execution_count": 52,
      "metadata": {
        "id": "QHKuhpGIHUDa"
      },
      "outputs": [],
      "source": [
        "## reproducibility\n",
        "random_seed = 1\n",
        "torch.manual_seed(random_seed)\n",
        "torch.backends.cudnn.enabled = False # there are some non-determernistic process in the cuda environment.\\\n",
        "                                     # Don't bother about it now (or probably any time)"
      ]
    },
    {
      "cell_type": "markdown",
      "metadata": {
        "id": "Cl6sMYb8VnpD"
      },
      "source": [
        "## Data is all we need 🤗\n",
        "\n",
        "In ML, we always start with **data** and in PyTorch they invented a really easy and nifty way to handle it well. In PyTorch there is a **Dataset class** which does all the job. In the beginning of your PyTorch journey it is a bit hard to grasp but once you get it you can use it really with ease. So as a start we just load one of the standard datasets in the ML field. The famous **MNIST Dataset**. This one is already provided out of the box from the torchvision package. So let's start!"
      ]
    },
    {
      "cell_type": "code",
      "execution_count": 53,
      "metadata": {
        "colab": {
          "base_uri": "https://localhost:8080/",
          "height": 87
        },
        "id": "IGs4Ae_pHj2G",
        "outputId": "c5e2d47a-84d9-4cb2-bfec-59c890b3db30"
      },
      "outputs": [
        {
          "data": {
            "text/plain": [
              "'\\n!!! You can completely ignore this cell if you are a beginner !!!\\nIf you\\'re a bit familiar with PyTorch you may wonder why we do not use transforms as in the code below in the loading of the dataset.\\nThis has just educational purposes and you will see why later in the notebook.\\nI just mention this point here because otherwise naturally questions arise like: \"Why is the transform missing?\"\\nIf you are total beginner just ignore this whole cell. Later you will understand.'"
            ]
          },
          "execution_count": 53,
          "metadata": {},
          "output_type": "execute_result"
        }
      ],
      "source": [
        "'''\n",
        "!!! You can completely ignore this cell if you are a beginner !!!\n",
        "If you're a bit familiar with PyTorch you may wonder why we do not use transforms as in the code below in the loading of the dataset.\n",
        "This has just educational purposes and you will see why later in the notebook.\n",
        "I just mention this point here because otherwise naturally questions arise like: \"Why is the transform missing?\"\n",
        "If you are total beginner just ignore this whole cell. Later you will understand.'''\n",
        "#don't uncomment for this tutorial\n",
        "#transform=torchvision.transforms.Compose([\n",
        "#                               torchvision.transforms.ToTensor(),\n",
        "#                               torchvision.transforms.Normalize(\n",
        "#                                 (0.1307,), (0.3081,))\n",
        "#                             ])"
      ]
    },
    {
      "cell_type": "markdown",
      "metadata": {
        "id": "bnh4m8bdlT0r"
      },
      "source": [
        "Let's load the MNIST Dataset"
      ]
    },
    {
      "cell_type": "code",
      "execution_count": 54,
      "metadata": {
        "colab": {
          "base_uri": "https://localhost:8080/",
          "height": 452
        },
        "id": "SkQEvCy2wFTD",
        "outputId": "bd969727-48e1-45f4-c9c3-5c0ecfc170ed"
      },
      "outputs": [
        {
          "data": {
            "text/plain": [
              "\"\\nSo this is really the easy way to load a dataset! I call it 'train_dataset' here, but you can call it whatever name you want.\\nAs you can see nested in the torchvision package there is a class MNIST which we instantiate (make) here.\\nThis class loads the MNSIT train dataset in your local folder (here: ./data).\\n\\n'train = True' means that you want the *training* dataset from MNIST -> you probably guessed that there must also be another dataset,\\n and you're right! -The *test* datatset can be loaded with 'train=False'.\\n\\n'download = True' means that you also want to download the dataset. When '=False' it just looks in the directory provided\\n by the root argument (here: ./data)\\n\""
            ]
          },
          "execution_count": 54,
          "metadata": {},
          "output_type": "execute_result"
        }
      ],
      "source": [
        "train_dataset = torchvision.datasets.MNIST(root='./data', train=True, download=True)\n",
        "\n",
        "'''\n",
        "So this is really the easy way to load a dataset! I call it 'train_dataset' here, but you can call it whatever name you want.\n",
        "As you can see nested in the torchvision package there is a class MNIST which we instantiate (make) here.\n",
        "This class loads the MNSIT train dataset in your local folder (here: ./data).\n",
        "\n",
        "'train = True' means that you want the *training* dataset from MNIST -> you probably guessed that there must also be another dataset,\n",
        " and you're right! -The *test* datatset can be loaded with 'train=False'.\n",
        "\n",
        "'download = True' means that you also want to download the dataset. When '=False' it just looks in the directory provided\n",
        " by the root argument (here: ./data)\n",
        "'''\n"
      ]
    },
    {
      "cell_type": "code",
      "execution_count": 55,
      "metadata": {
        "colab": {
          "base_uri": "https://localhost:8080/"
        },
        "id": "ArURqjXpnQc7",
        "outputId": "265c6273-c9b1-4476-ae49-55c9445a6735"
      },
      "outputs": [
        {
          "data": {
            "text/plain": [
              "torchvision.datasets.mnist.MNIST"
            ]
          },
          "execution_count": 55,
          "metadata": {},
          "output_type": "execute_result"
        }
      ],
      "source": [
        "type(train_dataset)"
      ]
    },
    {
      "cell_type": "code",
      "execution_count": 56,
      "metadata": {
        "colab": {
          "base_uri": "https://localhost:8080/"
        },
        "id": "ZyLsM7pf8avE",
        "outputId": "cba61d54-ed18-465e-b6f9-5c0b5d57783f"
      },
      "outputs": [
        {
          "data": {
            "text/plain": [
              "True"
            ]
          },
          "execution_count": 56,
          "metadata": {},
          "output_type": "execute_result"
        }
      ],
      "source": [
        "# As we can see, the created dataset is a subclass(a relative) of the pure PyTorch Dataset which we will see in future tutorials\n",
        "issubclass(torchvision.datasets.mnist.MNIST, torch.utils.data.Dataset)"
      ]
    },
    {
      "cell_type": "markdown",
      "metadata": {
        "id": "H7DwaypPaR75"
      },
      "source": [
        "So this is a real PyTorch Dataset now! Later in this course you will learn to build you're own. We can do two things with datasets:\n",
        "1. Get the items of the the dataset by index\n",
        "2. Get the length of the dataset that means how many items (i.e. datapoints/examples) it contains"
      ]
    },
    {
      "cell_type": "code",
      "execution_count": 57,
      "metadata": {
        "colab": {
          "base_uri": "https://localhost:8080/"
        },
        "id": "4UYKIh6onakq",
        "outputId": "fa95723b-e8bc-487d-817e-9e1cac708c36"
      },
      "outputs": [
        {
          "data": {
            "text/plain": [
              "60000"
            ]
          },
          "execution_count": 57,
          "metadata": {},
          "output_type": "execute_result"
        }
      ],
      "source": [
        "# Let's first check the size/length of the dataset\n",
        "len(train_dataset)"
      ]
    },
    {
      "cell_type": "markdown",
      "metadata": {
        "id": "cdJiecqoayGl"
      },
      "source": [
        "So our training dataset contains 60000 examples. Let's get one:"
      ]
    },
    {
      "cell_type": "code",
      "execution_count": 58,
      "metadata": {
        "colab": {
          "base_uri": "https://localhost:8080/"
        },
        "id": "f-Roa7ArnT5c",
        "outputId": "ebf609a5-3f22-43dd-bb03-d46711f07da0"
      },
      "outputs": [
        {
          "data": {
            "text/plain": [
              "(<PIL.Image.Image image mode=L size=28x28>, 5)"
            ]
          },
          "execution_count": 58,
          "metadata": {},
          "output_type": "execute_result"
        }
      ],
      "source": [
        "# here we pick the second item (remember indexing starts at 0 )\n",
        "train_dataset[0]"
      ]
    },
    {
      "cell_type": "markdown",
      "metadata": {
        "id": "rSjWtqfibIT5"
      },
      "source": [
        "Ok, wow. What did we get back? Looks to me like **a tuple with two entries**.\n",
        "The first one is an image in the PIL format (just an image format - you might be more familiar with png etc.) and the second one looks like an integer.\n",
        "So hopefully your intuition tells you now that the first entry is the data and the second the corresponding label.\n",
        "Let's plot that now:"
      ]
    },
    {
      "cell_type": "code",
      "execution_count": 59,
      "metadata": {
        "colab": {
          "base_uri": "https://localhost:8080/",
          "height": 452
        },
        "id": "RzO3Cbrgoz5Z",
        "outputId": "09c0d02d-6b26-4be0-e69e-363e798cc9b2"
      },
      "outputs": [
        {
          "data": {
            "image/png": "[encoded data removed]",
            "text/plain": [
              "<Figure size 640x480 with 1 Axes>"
            ]
          },
          "metadata": {},
          "output_type": "display_data"
        }
      ],
      "source": [
        "import matplotlib.pyplot as plt\n",
        "num_example=0\n",
        "plt.imshow(train_dataset[num_example][0], interpolation='none', cmap='Blues')\n",
        "plt.title(\"label = \" + str(train_dataset[num_example][1]))\n",
        "plt.show()"
      ]
    },
    {
      "cell_type": "code",
      "execution_count": 60,
      "metadata": {
        "colab": {
          "base_uri": "https://localhost:8080/",
          "height": 438
        },
        "id": "Z2XnboZLtuSB",
        "outputId": "f02eff00-2ec4-4bc4-b2cd-2950de4c24fc"
      },
      "outputs": [
        {
          "name": "stderr",
          "output_type": "stream",
          "text": [
            "/var/folders/nf/j0gr9tfn3gg2ln2c25rl4wnc0000gn/T/ipykernel_54030/114929139.py:5: UserWarning: The figure layout has changed to tight\n",
            "  plt.tight_layout()\n"
          ]
        },
        {
          "data": {
            "image/png": "[encoded data removed]",
            "text/plain": [
              "<Figure size 640x480 with 6 Axes>"
            ]
          },
          "metadata": {},
          "output_type": "display_data"
        }
      ],
      "source": [
        "# and a few more\n",
        "fig = plt.figure()\n",
        "for i in range(6):\n",
        "  plt.subplot(2,3,i+1)\n",
        "  plt.tight_layout()\n",
        "  plt.imshow(train_dataset[i][0], interpolation='none', cmap='Blues')\n",
        "  plt.title(f\"Label: {train_dataset[i][1]}\")\n",
        "  plt.xticks([])\n",
        "  plt.yticks([])"
      ]
    },
    {
      "cell_type": "markdown",
      "metadata": {
        "id": "xNViaJuVb_ND"
      },
      "source": [
        "### Task 1\n",
        "\n",
        "\n",
        "*   Understand everything above!\n",
        "*   Play with the plottings and find an example which you find hard to classify yourself (as an example look at the index 42 in the dataset)\n",
        "*   What `dtype` is the label (i.e. integer, float, string????) -> Find out\n",
        "*   What happens if you access `train_dataset[60000]` and what is with `train_dataset[-1]` ?\n",
        "\n",
        "\n"
      ]
    },
    {
      "cell_type": "markdown",
      "metadata": {},
      "source": [
        "### Completed Tasks:"
      ]
    },
    {
      "cell_type": "code",
      "execution_count": 61,
      "metadata": {},
      "outputs": [
        {
          "data": {
            "image/png": "[encoded data removed]",
            "text/plain": [
              "<Figure size 640x480 with 1 Axes>"
            ]
          },
          "metadata": {},
          "output_type": "display_data"
        }
      ],
      "source": [
        "# plot the image at index 42 in the dataset\n",
        "import matplotlib.pyplot as plt\n",
        "num_example=42\n",
        "plt.imshow(train_dataset[num_example][0], interpolation='none', cmap='Blues')\n",
        "plt.title(\"label = \" + str(train_dataset[num_example][1]))\n",
        "plt.show()"
      ]
    },
    {
      "cell_type": "code",
      "execution_count": 62,
      "metadata": {},
      "outputs": [
        {
          "data": {
            "text/plain": [
              "int"
            ]
          },
          "execution_count": 62,
          "metadata": {},
          "output_type": "execute_result"
        }
      ],
      "source": [
        "# data type of label\n",
        "type(train_dataset[num_example][1])"
      ]
    },
    {
      "cell_type": "code",
      "execution_count": 63,
      "metadata": {},
      "outputs": [],
      "source": [
        "# train_dataset[60000][0]\n",
        "# it gives error as the dataset has only 60000 images and the index starts at 0 and ends at 59999"
      ]
    },
    {
      "cell_type": "code",
      "execution_count": 64,
      "metadata": {},
      "outputs": [
        {
          "name": "stdout",
          "output_type": "stream",
          "text": [
            "(<PIL.Image.Image image mode=L size=28x28 at 0x297E957F0>, 8)\n",
            "(<PIL.Image.Image image mode=L size=28x28 at 0x29D475670>, 8)\n"
          ]
        }
      ],
      "source": [
        "print(train_dataset[59999]) \n",
        "# or -1 is at the same index location as 59999\n",
        "print(train_dataset[-1])"
      ]
    },
    {
      "cell_type": "markdown",
      "metadata": {
        "id": "1KMjf3CcdL4F"
      },
      "source": [
        "## Neural Network\n",
        "\n",
        "Now that we have our data  available, we can feed it in a neural network. Since a neural network needs input data in a tensor format, we have to convert our PIL images to tensors. Normally, one does this directly with transforms when loading the dataset and we will do this in the next lab. However, it is not strictly necessary because we can also do this in the training loop.\n",
        "\n",
        "Every network in PyTorch is implemented  by the **nn.Module class**. Because of that, you always define a new class which inherits from `nn.Module`. In this class definition, we have to define the properties of the network(e.g. the amount of layers) via the instance attributes(e.g. `self.layers`) and implement the `forward` method where we build the computation graph. Don't worry, let's look at an example."
      ]
    },
    {
      "cell_type": "code",
      "execution_count": 65,
      "metadata": {
        "id": "yjYCfe8VpuKG"
      },
      "outputs": [],
      "source": [
        "import torch.nn as nn\n",
        "\n",
        "### Simple 2 layer neural network with sigmoid activations\n",
        "\n",
        "class Classifier(nn.Module): # 'Classifier' is the name our Neural Network, we are free to choose this name. It could also be 'Classifier123', for example.\n",
        "                             # Inheriting von nn.Module is NOT changeable\n",
        "\n",
        "  def __init__(self):\n",
        "    # call the init of the parent PyTorch class -> we need to do this since we are inheriting from nn.Module\n",
        "    super().__init__() # super() is a function that returns the parent object of the class. So here it returns nn.Module and we call its init function\n",
        "\n",
        "    # define and set instance variables here: 'counter' and 'accumulator' for measuring progress during training\n",
        "    self.counter = 0 # this is just a counter that we will use to count the steps (batches) during training\n",
        "    self.losses = [] \n",
        "\n",
        "    # define the model -> here we sequentially chains two linear layers with Sigmoid activation functions\n",
        "    # as you can see, every part is a predefined module from torch.nn\n",
        "    self.model = nn.Sequential( # nn.Sequential is a container for the modules that we defined above\n",
        "      nn.Linear(28*28, 200), # nn.Linear is a linear transformation (i.e. y = Wx + b) with 28*28 inputs and 200 outputs\n",
        "      nn.Sigmoid(), # nn.Sigmoid is the sigmoid activation function\n",
        "      nn.Linear(200, 10), # another linear transformation with 200 inputs and 10 outputs\n",
        "      nn.Sigmoid() # sigmoid activation function\n",
        "      )\n",
        "\n",
        "    # define loss function\n",
        "    self.loss_function = nn.CrossEntropyLoss() # nn.CrossEntropyLoss() is the cross entropy loss function\n",
        "\n",
        "    # optimizer\n",
        "    self.optimiser = torch.optim.SGD(self.parameters(), lr=0.01) # torch.optim.SGD is the stochastic gradient descent optimizer\n",
        "\n",
        "  def forward(self, inputs):\n",
        "    # run input through model\n",
        "    return self.model(inputs) # self.model is the nn.Sequential that we defined above\n",
        "\n",
        "  def train(self, inputs, targets):\n",
        "    \"\"\"\n",
        "    This function defines the training loop\n",
        "    \"\"\"\n",
        "    ## First we want to convert the image (PIL) data to tensors\n",
        "    input_tensors= torchvision.transforms.ToTensor()(inputs).flatten()\n",
        "    ## from PIL to tensors -> ToTensor is a callable class that converts the inputs to Tensors. We then flatten the 2D data to be 1D\n",
        "    ## since our model just accepts 1D Tensors.\n",
        "\n",
        "    # run inputs through the neural network (forward propagation)\n",
        "    outputs = self(input_tensors)\n",
        "    ## How self(input_tensors) works is that it just passes the input_tensors to the forward() function defined a bit above.\n",
        "    ## So the outputs will be the activations of our last layer in neural network\n",
        "    ##\n",
        "    ## More in depth a nn.Module class (e.g. our Classifier) is something what is called a callable. This means that you can treat the class\n",
        "    ## like a function and it then exhibits the forward pass. We do it above with self(...) since we defined our training loop\n",
        "    ## inside our model class.\n",
        "\n",
        "\n",
        "\n",
        "\n",
        "    # calculate loss\n",
        "    loss = self.loss_function(outputs, torch.tensor(targets))\n",
        "    ## our loss, the CrossEntropy, requires the targets(i.e. labels) to be integers. So, we are already all fine\n",
        "    ## because that is exactly how they are saved in our MNIST Dataset\n",
        "\n",
        "    # increase counter each step and also accumulate error every 1000 steps(batches)\n",
        "    self.counter += 1\n",
        "    if (self.counter % 1000 == 0):\n",
        "        self.losses.append(loss.item())\n",
        "\n",
        "    if (self.counter % 10000 == 0):\n",
        "        print(\"counter = \", self.counter)\n",
        "\n",
        "    # Here, most of the magic happens\n",
        "    # zero out old gradients -> perform a backward pass -> and update the weights with gradients calculated\n",
        "    self.optimiser.zero_grad()\n",
        "    loss.backward()\n",
        "    self.optimiser.step()\n",
        "\n",
        "  def plot_progress(self):\n",
        "        \"\"\"Plot loss over every 1000th step\"\"\"\n",
        "        plt.plot(self.losses, alpha=0.5, marker='.')\n",
        "        plt.title('loss every 1000 steps')"
      ]
    },
    {
      "cell_type": "markdown",
      "metadata": {
        "id": "r3waQ0zcy1dv"
      },
      "source": [
        "With this blueprint we now create a neural network instance and start the training"
      ]
    },
    {
      "cell_type": "code",
      "execution_count": 66,
      "metadata": {
        "colab": {
          "base_uri": "https://localhost:8080/"
        },
        "id": "WmKemrIwszNN",
        "outputId": "19679196-0434-4214-98cd-6ecc8f3ef8e1"
      },
      "outputs": [
        {
          "name": "stdout",
          "output_type": "stream",
          "text": [
            "training epoch 1 of 4\n",
            "counter =  10000\n",
            "counter =  20000\n",
            "counter =  30000\n",
            "counter =  40000\n",
            "counter =  50000\n",
            "counter =  60000\n",
            "training epoch 2 of 4\n",
            "counter =  70000\n",
            "counter =  80000\n",
            "counter =  90000\n",
            "counter =  100000\n",
            "counter =  110000\n",
            "counter =  120000\n",
            "training epoch 3 of 4\n",
            "counter =  130000\n",
            "counter =  140000\n",
            "counter =  150000\n",
            "counter =  160000\n",
            "counter =  170000\n",
            "counter =  180000\n",
            "training epoch 4 of 4\n",
            "counter =  190000\n",
            "counter =  200000\n",
            "counter =  210000\n",
            "counter =  220000\n",
            "counter =  230000\n",
            "counter =  240000\n",
            "CPU times: user 1min 2s, sys: 10.5 s, total: 1min 12s\n",
            "Wall time: 1min 4s\n"
          ]
        }
      ],
      "source": [
        "%%time\n",
        "\n",
        "# create neural network\n",
        "model = Classifier()\n",
        "\n",
        "# train network on MNIST data set\n",
        "epochs = 4\n",
        "\n",
        "# (dataloaders will be introduced in the next lab, so we will not use them here.)\n",
        "\n",
        "# training loop\n",
        "for i in range(epochs):\n",
        "    print('training epoch', i+1, \"of\", epochs)\n",
        "    for image, target in train_dataset:\n",
        "      # actually we are here feeding in batches of size 1 -> so complete stochastic gradient descent\n",
        "      model.train(image, target)"
      ]
    },
    {
      "cell_type": "code",
      "execution_count": 67,
      "metadata": {
        "colab": {
          "base_uri": "https://localhost:8080/",
          "height": 452
        },
        "id": "NLNj5ncI5NVu",
        "outputId": "b579611d-21c6-4349-a9ad-d17a67da2a5a"
      },
      "outputs": [
        {
          "data": {
            "image/png": "[encoded data removed]",
            "text/plain": [
              "<Figure size 640x480 with 1 Axes>"
            ]
          },
          "metadata": {},
          "output_type": "display_data"
        }
      ],
      "source": [
        "model.plot_progress()"
      ]
    },
    {
      "cell_type": "markdown",
      "metadata": {
        "id": "D-xfSPZreKVV"
      },
      "source": [
        "### Task 2\n",
        "\n",
        "\n",
        "\n",
        "*   Change the optimizer to Adam\n",
        "*   Add layers and look at the time the training takes\n",
        "*   Try to program passing batches into the train funtion without using PyTorch DataLoaders\n",
        "\n",
        "\n",
        "\n",
        "\n",
        "\n",
        "\n",
        "\n",
        "\n"
      ]
    },
    {
      "cell_type": "markdown",
      "metadata": {},
      "source": [
        "### Tasks Completed"
      ]
    },
    {
      "cell_type": "markdown",
      "metadata": {},
      "source": [
        "#### Using Adam Optimizer"
      ]
    },
    {
      "cell_type": "code",
      "execution_count": 68,
      "metadata": {},
      "outputs": [],
      "source": [
        "import torch.nn as nn\n",
        "\n",
        "### Simple 2 layer neural network with sigmoid activations\n",
        "\n",
        "class Classifier(nn.Module): # 'Classifier' is the name our Neural Network, we are free to choose this name. It could also be 'Classifier123', for example.\n",
        "                             # Inheriting von nn.Module is NOT changeable\n",
        "\n",
        "  def __init__(self):\n",
        "    # call the init of the parent PyTorch class -> we need to do this since we are inheriting from nn.Module\n",
        "    super().__init__() # super() is a function that returns the parent object of the class. So here it returns nn.Module and we call its init function\n",
        "\n",
        "    # define and set instance variables here: 'counter' and 'accumulator' for measuring progress during training\n",
        "    self.counter = 0 # this is just a counter that we will use to count the steps (batches) during training\n",
        "    self.losses = [] \n",
        "\n",
        "    # define the model -> here we sequentially chains two linear layers with Sigmoid activation functions\n",
        "    # as you can see, every part is a predefined module from torch.nn\n",
        "    self.model = nn.Sequential( # nn.Sequential is a container for the modules that we defined above\n",
        "      nn.Linear(28*28, 200), # nn.Linear is a linear transformation (i.e. y = Wx + b) with 28*28 inputs and 200 outputs\n",
        "      nn.Sigmoid(), # nn.Sigmoid is the sigmoid activation function\n",
        "      nn.Linear(200, 10), # another linear transformation with 200 inputs and 10 outputs\n",
        "      nn.Sigmoid() # sigmoid activation function\n",
        "      )\n",
        "\n",
        "    # define loss function\n",
        "    self.loss_function = nn.CrossEntropyLoss() # nn.CrossEntropyLoss() is the cross entropy loss function\n",
        "\n",
        "    # optimizer adam\n",
        "    self.optimiser = torch.optim.Adam(self.parameters(), lr=0.01) # torch.optim.Adam is the Adam optimizer\n",
        "\n",
        "  def forward(self, inputs):\n",
        "    # run input through model\n",
        "    return self.model(inputs) # self.model is the nn.Sequential that we defined above\n",
        "\n",
        "  def train(self, inputs, targets):\n",
        "    \"\"\"\n",
        "    This function defines the training loop\n",
        "    \"\"\"\n",
        "    ## First we want to convert the image (PIL) data to tensors\n",
        "    input_tensors= torchvision.transforms.ToTensor()(inputs).flatten()\n",
        "    ## from PIL to tensors -> ToTensor is a callable class that converts the inputs to Tensors. We then flatten the 2D data to be 1D\n",
        "    ## since our model just accepts 1D Tensors.\n",
        "\n",
        "    # run inputs through the neural network (forward propagation)\n",
        "    outputs = self(input_tensors)\n",
        "    ## How self(input_tensors) works is that it just passes the input_tensors to the forward() function defined a bit above.\n",
        "    ## So the outputs will be the activations of our last layer in neural network\n",
        "    ##\n",
        "    ## More in depth a nn.Module class (e.g. our Classifier) is something what is called a callable. This means that you can treat the class\n",
        "    ## like a function and it then exhibits the forward pass. We do it above with self(...) since we defined our training loop\n",
        "    ## inside our model class.\n",
        "\n",
        "\n",
        "\n",
        "\n",
        "    # calculate loss\n",
        "    loss = self.loss_function(outputs, torch.tensor(targets))\n",
        "    ## our loss, the CrossEntropy, requires the targets(i.e. labels) to be integers. So, we are already all fine\n",
        "    ## because that is exactly how they are saved in our MNIST Dataset\n",
        "\n",
        "    # increase counter each step and also accumulate error every 1000 steps(batches)\n",
        "    self.counter += 1\n",
        "    if (self.counter % 1000 == 0):\n",
        "        self.losses.append(loss.item())\n",
        "\n",
        "    if (self.counter % 10000 == 0):\n",
        "        print(\"counter = \", self.counter)\n",
        "\n",
        "    # Here, most of the magic happens\n",
        "    # zero out old gradients -> perform a backward pass -> and update the weights with gradients calculated\n",
        "    self.optimiser.zero_grad()\n",
        "    loss.backward()\n",
        "    self.optimiser.step()\n",
        "\n",
        "  def plot_progress(self):\n",
        "        \"\"\"Plot loss over every 1000th step\"\"\"\n",
        "        plt.plot(self.losses, alpha=0.5, marker='.')\n",
        "        plt.title('loss every 1000 steps')"
      ]
    },
    {
      "cell_type": "code",
      "execution_count": 69,
      "metadata": {},
      "outputs": [
        {
          "name": "stdout",
          "output_type": "stream",
          "text": [
            "training epoch 1 of 4\n",
            "counter =  250000\n",
            "counter =  260000\n",
            "counter =  270000\n",
            "counter =  280000\n",
            "counter =  290000\n",
            "counter =  300000\n",
            "training epoch 2 of 4\n",
            "counter =  310000\n",
            "counter =  320000\n",
            "counter =  330000\n",
            "counter =  340000\n",
            "counter =  350000\n",
            "counter =  360000\n",
            "training epoch 3 of 4\n",
            "counter =  370000\n",
            "counter =  380000\n",
            "counter =  390000\n",
            "counter =  400000\n",
            "counter =  410000\n",
            "counter =  420000\n",
            "training epoch 4 of 4\n",
            "counter =  430000\n",
            "counter =  440000\n",
            "counter =  450000\n",
            "counter =  460000\n",
            "counter =  470000\n",
            "counter =  480000\n",
            "CPU times: user 1min 7s, sys: 11 s, total: 1min 18s\n",
            "Wall time: 1min 10s\n"
          ]
        }
      ],
      "source": [
        "%%time\n",
        "# create neural network\n",
        "model_1 = Classifier()\n",
        "\n",
        "# train network on MNIST data set\n",
        "epochs = 4\n",
        "\n",
        "# (dataloaders will be introduced in the next lab, so we will not use them here.)\n",
        "\n",
        "# training loop\n",
        "for i in range(epochs):\n",
        "    print('training epoch', i+1, \"of\", epochs)\n",
        "    for image, target in train_dataset:\n",
        "      # actually we are here feeding in batches of size 1 -> so complete stochastic gradient descent\n",
        "      model.train(image, target)"
      ]
    },
    {
      "cell_type": "code",
      "execution_count": 70,
      "metadata": {},
      "outputs": [
        {
          "data": {
            "image/png": "[encoded data removed]",
            "text/plain": [
              "<Figure size 640x480 with 1 Axes>"
            ]
          },
          "metadata": {},
          "output_type": "display_data"
        }
      ],
      "source": [
        "model_1.plot_progress()"
      ]
    },
    {
      "cell_type": "markdown",
      "metadata": {},
      "source": [
        "# Observations:\n",
        "1. With adam optimizer the time increased from `1m,20s` to `3m,15s`\n",
        "2. Swif change in the model performance in the begining."
      ]
    },
    {
      "cell_type": "markdown",
      "metadata": {},
      "source": [
        "#### Adding Layers in the model"
      ]
    },
    {
      "cell_type": "code",
      "execution_count": 71,
      "metadata": {},
      "outputs": [],
      "source": [
        "import torch.nn as nn\n",
        "\n",
        "### Simple 2 layer neural network with sigmoid activations\n",
        "\n",
        "class Classifier(nn.Module): # 'Classifier' is the name our Neural Network, we are free to choose this name. It could also be 'Classifier123', for example.\n",
        "                             # Inheriting von nn.Module is NOT changeable\n",
        "\n",
        "  def __init__(self):\n",
        "    # call the init of the parent PyTorch class -> we need to do this since we are inheriting from nn.Module\n",
        "    super().__init__() # super() is a function that returns the parent object of the class. So here it returns nn.Module and we call its init function\n",
        "\n",
        "    # define and set instance variables here: 'counter' and 'accumulator' for measuring progress during training\n",
        "    self.counter = 0 # this is just a counter that we will use to count the steps (batches) during training\n",
        "    self.losses = [] \n",
        "\n",
        "    # define the model -> here we sequentially chains two linear layers with Sigmoid activation functions\n",
        "    # as you can see, every part is a predefined module from torch.nn\n",
        "    self.model = nn.Sequential( # nn.Sequential is a container for the modules that we defined above\n",
        "      nn.Linear(28*28, 200), # nn.Linear is a linear transformation (i.e. y = Wx + b) with 28*28 inputs and 200 outputs\n",
        "      nn.Sigmoid(), # nn.Sigmoid is the sigmoid activation function\n",
        "      nn.Linear(200, 10), # another linear transformation with 200 inputs and 10 outputs\n",
        "      nn.Sigmoid(), # sigmoid activation function\n",
        "      nn.Linear(10, 10),\n",
        "      nn.Sigmoid()\n",
        "      )\n",
        "\n",
        "    # define loss function\n",
        "    self.loss_function = nn.CrossEntropyLoss() # nn.CrossEntropyLoss() is the cross entropy loss function\n",
        "\n",
        "    # optimizer adam\n",
        "    self.optimiser = torch.optim.SGD(self.parameters(), lr=0.01) \n",
        "\n",
        "  def forward(self, inputs):\n",
        "    # run input through model\n",
        "    return self.model(inputs) # self.model is the nn.Sequential that we defined above\n",
        "\n",
        "  def train(self, inputs, targets):\n",
        "    \"\"\"\n",
        "    This function defines the training loop\n",
        "    \"\"\"\n",
        "    ## First we want to convert the image (PIL) data to tensors\n",
        "    input_tensors= torchvision.transforms.ToTensor()(inputs).flatten()\n",
        "    ## from PIL to tensors -> ToTensor is a callable class that converts the inputs to Tensors. We then flatten the 2D data to be 1D\n",
        "    ## since our model just accepts 1D Tensors.\n",
        "\n",
        "    # run inputs through the neural network (forward propagation)\n",
        "    outputs = self(input_tensors)\n",
        "    ## How self(input_tensors) works is that it just passes the input_tensors to the forward() function defined a bit above.\n",
        "    ## So the outputs will be the activations of our last layer in neural network\n",
        "    ##\n",
        "    ## More in depth a nn.Module class (e.g. our Classifier) is something what is called a callable. This means that you can treat the class\n",
        "    ## like a function and it then exhibits the forward pass. We do it above with self(...) since we defined our training loop\n",
        "    ## inside our model class.\n",
        "\n",
        "\n",
        "\n",
        "\n",
        "    # calculate loss\n",
        "    loss = self.loss_function(outputs, torch.tensor(targets))\n",
        "    ## our loss, the CrossEntropy, requires the targets(i.e. labels) to be integers. So, we are already all fine\n",
        "    ## because that is exactly how they are saved in our MNIST Dataset\n",
        "\n",
        "    # increase counter each step and also accumulate error every 1000 steps(batches)\n",
        "    self.counter += 1\n",
        "    if (self.counter % 1000 == 0):\n",
        "        self.losses.append(loss.item())\n",
        "\n",
        "    if (self.counter % 10000 == 0):\n",
        "        print(\"counter = \", self.counter)\n",
        "\n",
        "    # Here, most of the magic happens\n",
        "    # zero out old gradients -> perform a backward pass -> and update the weights with gradients calculated\n",
        "    self.optimiser.zero_grad()\n",
        "    loss.backward()\n",
        "    self.optimiser.step()\n",
        "\n",
        "  def plot_progress(self):\n",
        "        \"\"\"Plot loss over every 1000th step\"\"\"\n",
        "        plt.plot(self.losses, alpha=0.5, marker='.')\n",
        "        plt.title('loss every 1000 steps')"
      ]
    },
    {
      "cell_type": "code",
      "execution_count": 72,
      "metadata": {},
      "outputs": [
        {
          "name": "stdout",
          "output_type": "stream",
          "text": [
            "training epoch 1 of 4\n",
            "counter =  490000\n",
            "counter =  500000\n",
            "counter =  510000\n",
            "counter =  520000\n",
            "counter =  530000\n",
            "counter =  540000\n",
            "training epoch 2 of 4\n",
            "counter =  550000\n",
            "counter =  560000\n",
            "counter =  570000\n",
            "counter =  580000\n",
            "counter =  590000\n",
            "counter =  600000\n",
            "training epoch 3 of 4\n",
            "counter =  610000\n",
            "counter =  620000\n",
            "counter =  630000\n",
            "counter =  640000\n",
            "counter =  650000\n",
            "counter =  660000\n",
            "training epoch 4 of 4\n",
            "counter =  670000\n",
            "counter =  680000\n",
            "counter =  690000\n",
            "counter =  700000\n",
            "counter =  710000\n",
            "counter =  720000\n",
            "CPU times: user 1min 5s, sys: 11.3 s, total: 1min 16s\n",
            "Wall time: 1min 8s\n"
          ]
        }
      ],
      "source": [
        "%%time\n",
        "# create neural network\n",
        "model_2 = Classifier()\n",
        "\n",
        "# train network on MNIST data set\n",
        "epochs = 4\n",
        "\n",
        "# (dataloaders will be introduced in the next lab, so we will not use them here.)\n",
        "\n",
        "# training loop\n",
        "for i in range(epochs):\n",
        "    print('training epoch', i+1, \"of\", epochs)\n",
        "    for image, target in train_dataset:\n",
        "      # actually we are here feeding in batches of size 1 -> so complete stochastic gradient descent\n",
        "      model.train(image, target)"
      ]
    },
    {
      "cell_type": "code",
      "execution_count": 74,
      "metadata": {},
      "outputs": [
        {
          "data": {
            "image/png": "[encoded data removed]",
            "text/plain": [
              "<Figure size 640x480 with 1 Axes>"
            ]
          },
          "metadata": {},
          "output_type": "display_data"
        }
      ],
      "source": [
        "model_2.plot_progress()"
      ]
    },
    {
      "cell_type": "markdown",
      "metadata": {
        "id": "eQOkaLEZbpsL"
      },
      "source": [
        "## Test time 😃"
      ]
    },
    {
      "cell_type": "markdown",
      "metadata": {
        "id": "sqvDkserZL-r"
      },
      "source": [
        "Now, let us evaluate how good our model performs. Therefore, we load the test set of MNIST. Remember, and that should be absolutely clear to you(!), the test set should be used only very sparsely to evaluate the trained model to get a real measure of performance. Never use the test examples also for training, otherwise your evaluation will be hugely biased! There are even more intricacies to the test set which you will witness in the next course sessions."
      ]
    },
    {
      "cell_type": "code",
      "execution_count": 75,
      "metadata": {
        "id": "8HOn0B2KK8UC"
      },
      "outputs": [],
      "source": [
        "test_dataset = torchvision.datasets.MNIST(root='./data', train=False,\n",
        "                                        download=True)"
      ]
    },
    {
      "cell_type": "code",
      "execution_count": 76,
      "metadata": {
        "colab": {
          "base_uri": "https://localhost:8080/"
        },
        "id": "GzMkJVLYx64z",
        "outputId": "8f842771-d629-4a44-935e-18eb86f0fc5d"
      },
      "outputs": [
        {
          "data": {
            "text/plain": [
              "10000"
            ]
          },
          "execution_count": 76,
          "metadata": {},
          "output_type": "execute_result"
        }
      ],
      "source": [
        "len(test_dataset)"
      ]
    },
    {
      "cell_type": "code",
      "execution_count": 82,
      "metadata": {
        "colab": {
          "base_uri": "https://localhost:8080/"
        },
        "id": "qqtFVNNCtTHJ",
        "outputId": "f82625b4-2196-48de-a8b5-779c746e64fe"
      },
      "outputs": [
        {
          "name": "stdout",
          "output_type": "stream",
          "text": [
            "Correct 9388 from 10000 test examples, accuracy: 93.88%\n"
          ]
        }
      ],
      "source": [
        "# test trained neural network on test data\n",
        "\n",
        "# Here we just pass each test example through the model and set the class which get the highest score to be the predicted class.\n",
        "# We then compare the prediction to the truth for each example\n",
        "score = 0\n",
        "items = 0\n",
        "\n",
        "for image, label in test_dataset:\n",
        "    image_as_flattened_tensor = torchvision.transforms.ToTensor()(image).flatten()\n",
        "    predictions = model(image_as_flattened_tensor)\n",
        "    # We need to transform the predictions from a tensor into a numpy array so that we can easily work with them\n",
        "    predictions_as_numpy_array = predictions.detach().numpy()\n",
        "    predicted_label = predictions_as_numpy_array.argmax()\n",
        "    if (predicted_label == label):\n",
        "        score += 1\n",
        "\n",
        "    items += 1\n",
        "\n",
        "print(f'Correct {score} from {items} test examples, accuracy: {score/items*100:.2f}%')"
      ]
    },
    {
      "cell_type": "markdown",
      "metadata": {},
      "source": [
        "#### Model_1 with Adam Optimizer"
      ]
    },
    {
      "cell_type": "code",
      "execution_count": 83,
      "metadata": {},
      "outputs": [
        {
          "name": "stdout",
          "output_type": "stream",
          "text": [
            "Correct 1028 from 10000 test examples, accuracy: 10.28%\n"
          ]
        }
      ],
      "source": [
        "# test trained neural network on test data\n",
        "\n",
        "# Here we just pass each test example through the model and set the class which get the highest score to be the predicted class.\n",
        "# We then compare the prediction to the truth for each example\n",
        "score = 0\n",
        "items = 0\n",
        "\n",
        "for image, label in test_dataset:\n",
        "    image_as_flattened_tensor = torchvision.transforms.ToTensor()(image).flatten()\n",
        "    predictions = model_1(image_as_flattened_tensor)\n",
        "    # We need to transform the predictions from a tensor into a numpy array so that we can easily work with them\n",
        "    predictions_as_numpy_array = predictions.detach().numpy()\n",
        "    predicted_label = predictions_as_numpy_array.argmax()\n",
        "    if (predicted_label == label):\n",
        "        score += 1\n",
        "\n",
        "    items += 1\n",
        "\n",
        "print(f'Correct {score} from {items} test examples, accuracy: {score/items*100:.2f}%')"
      ]
    },
    {
      "cell_type": "markdown",
      "metadata": {},
      "source": [
        "#### Model_2 with another layer"
      ]
    },
    {
      "cell_type": "code",
      "execution_count": 84,
      "metadata": {},
      "outputs": [
        {
          "name": "stdout",
          "output_type": "stream",
          "text": [
            "Correct 859 from 10000 test examples, accuracy: 8.59%\n"
          ]
        }
      ],
      "source": [
        "# test trained neural network on test data\n",
        "\n",
        "# Here we just pass each test example through the model and set the class which get the highest score to be the predicted class.\n",
        "# We then compare the prediction to the truth for each example\n",
        "score = 0\n",
        "items = 0\n",
        "\n",
        "for image, label in test_dataset:\n",
        "    image_as_flattened_tensor = torchvision.transforms.ToTensor()(image).flatten()\n",
        "    predictions = model_2(image_as_flattened_tensor)\n",
        "    # We need to transform the predictions from a tensor into a numpy array so that we can easily work with them\n",
        "    predictions_as_numpy_array = predictions.detach().numpy()\n",
        "    predicted_label = predictions_as_numpy_array.argmax()\n",
        "    if (predicted_label == label):\n",
        "        score += 1\n",
        "\n",
        "    items += 1\n",
        "\n",
        "print(f'Correct {score} from {items} test examples, accuracy: {score/items*100:.2f}%')"
      ]
    },
    {
      "cell_type": "markdown",
      "metadata": {
        "id": "0Nc-K5ucabzi"
      },
      "source": [
        "The accuracy is about 91.6%. from original Model. Is that good or bad?"
      ]
    },
    {
      "cell_type": "markdown",
      "metadata": {
        "id": "Dp253aDucCmZ"
      },
      "source": [
        "Let's look at one example to enhance our intuition about the training results."
      ]
    },
    {
      "cell_type": "code",
      "execution_count": 85,
      "metadata": {
        "colab": {
          "base_uri": "https://localhost:8080/",
          "height": 1000
        },
        "id": "ibqsP_fvspk9",
        "outputId": "5f7dbbc8-2d70-47e2-ebfd-1f39ad7f05ab"
      },
      "outputs": [
        {
          "name": "stdout",
          "output_type": "stream",
          "text": [
            "Test example 43\n"
          ]
        },
        {
          "data": {
            "image/png": "[encoded data removed]",
            "text/plain": [
              "<Figure size 640x480 with 1 Axes>"
            ]
          },
          "metadata": {},
          "output_type": "display_data"
        },
        {
          "name": "stdout",
          "output_type": "stream",
          "text": [
            "\n",
            "output_values =\n",
            " [1.40075133e-06 1.54809495e-02 9.96241331e-01 1.02404185e-04\n",
            " 1.88110149e-04 2.52034632e-03 5.02583571e-04 8.05131695e-09\n",
            " 2.04988779e-03 1.98498029e-07]\n",
            "\n",
            "Sum of the output values =  1.0170872211456299\n"
          ]
        },
        {
          "data": {
            "image/png": "[encoded data removed]",
            "text/plain": [
              "<Figure size 640x480 with 1 Axes>"
            ]
          },
          "metadata": {},
          "output_type": "display_data"
        }
      ],
      "source": [
        "test_example= 43\n",
        "print(f\"Test example {test_example}\")\n",
        "test_image = test_dataset[test_example][0]\n",
        "test_label = test_dataset[test_example][1]\n",
        "\n",
        "plt.imshow(test_image, interpolation='none', cmap='Blues')\n",
        "plt.title(\"label = \" + str(test_label))\n",
        "plt.show()\n",
        "\n",
        "\n",
        "# query from trained network\n",
        "test_image_as_flattened_tensor = torchvision.transforms.ToTensor()(test_image).flatten()\n",
        "predictions = model(test_image_as_flattened_tensor)\n",
        "predictions_as_numpy_array = predictions.detach().numpy()\n",
        "print(\"\")\n",
        "print(\"output_values =\\n\",predictions_as_numpy_array)\n",
        "print(\"\")\n",
        "print(\"Sum of the output values = \",predictions.sum().item())\n",
        "# plot output tensor\n",
        "pd.DataFrame(predictions_as_numpy_array).plot(kind='bar', legend=False, ylim=(0,1), title='Output values');"
      ]
    },
    {
      "cell_type": "markdown",
      "metadata": {
        "id": "zb_lHgjkl2za"
      },
      "source": [
        "As you can see, the results do not add up to one. This is not desirable because we want the results to be in the form of probabilities, expressing how certain the model is that the image belongs to a specific label. Because we need that the sum over all labels adds up to 1 (or 100%). Let see how we can do that"
      ]
    },
    {
      "cell_type": "markdown",
      "metadata": {
        "id": "sHucbbiHHitl"
      },
      "source": [
        " Deep Dive: More specifically, we want the results to be in the **form** of a probability mass function. As such, the probabilities of all labels must sum to one and each be greater than/equal to zero according the probability axioms"
      ]
    },
    {
      "cell_type": "code",
      "execution_count": 86,
      "metadata": {
        "colab": {
          "base_uri": "https://localhost:8080/",
          "height": 551
        },
        "id": "md_ZM4wwl12B",
        "outputId": "b30ec46b-1e31-4e47-891c-3e3f0b796125"
      },
      "outputs": [
        {
          "name": "stdout",
          "output_type": "stream",
          "text": [
            "\n",
            "output_values =\n",
            " [0.08525849 0.08658851 0.2308868  0.0852671  0.08527441 0.08547352\n",
            " 0.08530123 0.08525836 0.08543331 0.08525838]\n",
            "\n",
            "Sum of the output values =  1.0000001192092896\n"
          ]
        },
        {
          "data": {
            "image/png": "[encoded data removed]",
            "text/plain": [
              "<Figure size 640x480 with 1 Axes>"
            ]
          },
          "metadata": {},
          "output_type": "display_data"
        }
      ],
      "source": [
        "#Let's convert our output to probabilities (at least kind of -> these are of course fake probabilities because we artifically make them but they help for human interpretability)\n",
        "predictions_as_probabilities = torch.nn.functional.softmax(predictions, dim = 0)\n",
        "predictions_as_probabilities_np = predictions_as_probabilities.detach().numpy()\n",
        "# plot output tensor\n",
        "pd.DataFrame(predictions_as_probabilities_np).plot(kind='bar', legend=False, ylim=(0,1), title='Normalized output values')\n",
        "print(\"\")\n",
        "print(\"output_values =\\n\",predictions_as_probabilities_np)\n",
        "print(\"\")\n",
        "print(\"Sum of the output values = \",predictions_as_probabilities.sum().item())"
      ]
    },
    {
      "cell_type": "markdown",
      "metadata": {
        "id": "fFp_-Uyim0Jm"
      },
      "source": [
        "### Task 3\n",
        "\n",
        "\n",
        "\n",
        "* Build some code to compute the accuracy for the training dataset and compare it with the accuracy for the test dataset calculated above\n",
        "\n",
        "\n"
      ]
    },
    {
      "cell_type": "code",
      "execution_count": 87,
      "metadata": {},
      "outputs": [
        {
          "name": "stdout",
          "output_type": "stream",
          "text": [
            "Correct 56304 from 60000 train examples, accuracy: 93.84%\n"
          ]
        }
      ],
      "source": [
        "# compute the accuracy for training data and compare it with the test accuracy\n",
        "score = 0\n",
        "items = 0\n",
        "\n",
        "for image, label in train_dataset:\n",
        "    image_as_flattened_tensor = torchvision.transforms.ToTensor()(image).flatten()\n",
        "    predictions = model(image_as_flattened_tensor)\n",
        "    # We need to transform the predictions from a tensor into a numpy array so that we can easily work with them\n",
        "    predictions_as_numpy_array = predictions.detach().numpy()\n",
        "    predicted_label = predictions_as_numpy_array.argmax()\n",
        "    if (predicted_label == label):\n",
        "        score += 1\n",
        "\n",
        "    items += 1\n",
        "\n",
        "print(f'Correct {score} from {items} train examples, accuracy: {score/items*100:.2f}%')\n",
        "\n",
        "# compute the accuracy for training data and compare it with the test accuracy\n",
        "score = 0\n",
        "items = 0\n",
        "\n",
        "for image, label in test_dataset:\n",
        "    image_as_flattened_tensor = torchvision.transforms.ToTensor()(image).flatten()\n",
        "    predictions = model(image_as_flattened_tensor)\n",
        "    # We need to transform the predictions from a tensor into a numpy array so that we can easily work with them\n",
        "    predictions_as_numpy_array = predictions.detach().numpy()\n",
        "    predicted_label = predictions_as_numpy_array.argmax()\n",
        "    if (predicted_label == label):\n",
        "        score += 1\n",
        "\n",
        "    items += 1\n",
        "\n",
        "print(f'Correct {score} from {items} train examples, accuracy: {score/items*100:.2f}%')"
      ]
    },
    {
      "cell_type": "code",
      "execution_count": 88,
      "metadata": {},
      "outputs": [
        {
          "name": "stdout",
          "output_type": "stream",
          "text": [
            "Correct 9388 from 10000 train examples, accuracy: 93.88%\n"
          ]
        }
      ],
      "source": [
        "# compute the accuracy for training data and compare it with the test accuracy\n",
        "score = 0\n",
        "items = 0\n",
        "\n",
        "for image, label in test_dataset:\n",
        "    image_as_flattened_tensor = torchvision.transforms.ToTensor()(image).flatten()\n",
        "    predictions = model(image_as_flattened_tensor)\n",
        "    # We need to transform the predictions from a tensor into a numpy array so that we can easily work with them\n",
        "    predictions_as_numpy_array = predictions.detach().numpy()\n",
        "    predicted_label = predictions_as_numpy_array.argmax()\n",
        "    if (predicted_label == label):\n",
        "        score += 1\n",
        "\n",
        "    items += 1\n",
        "\n",
        "print(f'Correct {score} from {items} train examples, accuracy: {score/items*100:.2f}%')"
      ]
    },
    {
      "cell_type": "code",
      "execution_count": 90,
      "metadata": {},
      "outputs": [
        {
          "name": "stdout",
          "output_type": "stream",
          "text": [
            "Epoch 1: Train Accuracy: 100.00, Test Accuracy: 100.00\n",
            "Epoch 2: Train Accuracy: 100.00, Test Accuracy: 100.00\n",
            "Epoch 3: Train Accuracy: 100.00, Test Accuracy: 100.00\n",
            "Epoch 4: Train Accuracy: 100.00, Test Accuracy: 100.00\n",
            "Epoch 5: Train Accuracy: 100.00, Test Accuracy: 100.00\n",
            "Epoch 6: Train Accuracy: 100.00, Test Accuracy: 100.00\n",
            "Epoch 7: Train Accuracy: 100.00, Test Accuracy: 100.00\n",
            "Epoch 8: Train Accuracy: 100.00, Test Accuracy: 100.00\n",
            "Epoch 9: Train Accuracy: 100.00, Test Accuracy: 100.00\n",
            "Epoch 10: Train Accuracy: 100.00, Test Accuracy: 100.00\n"
          ]
        },
        {
          "data": {
            "image/png": "[encoded data removed]",
            "text/plain": [
              "<Figure size 640x480 with 1 Axes>"
            ]
          },
          "metadata": {},
          "output_type": "display_data"
        }
      ],
      "source": [
        "import matplotlib.pyplot as plt\n",
        "\n",
        "num_epochs = 10\n",
        "\n",
        "train_accuracies = []\n",
        "test_accuracies = []\n",
        "\n",
        "for epoch in range(num_epochs):\n",
        "\n",
        "    # Compute training accuracy\n",
        "    train_score = 0\n",
        "    train_items = 0\n",
        "\n",
        "    for image, label in train_dataset:\n",
        "        image_as_flattened_tensor = torchvision.transforms.ToTensor()(image).flatten()\n",
        "        predictions = model(image_as_flattened_tensor)\n",
        "        # We need to transform the predictions from a tensor into a numpy array so that we can easily work with them\n",
        "        predictions_as_numpy_array = predictions.detach().numpy()\n",
        "        predicted_label = predictions_as_numpy_array.argmax()\n",
        "        if (predicted_label == label):\n",
        "            score += 1\n",
        "\n",
        "        train_score += 1\n",
        "        train_items += 1\n",
        "        \n",
        "    train_accuracy = train_score/train_items * 100\n",
        "    train_accuracies.append(train_accuracy)\n",
        "\n",
        "    # Compute test accuracy\n",
        "    test_score = 0\n",
        "    test_items = 0  \n",
        "\n",
        "    for image, label in test_dataset:\n",
        "        image_as_flattened_tensor = torchvision.transforms.ToTensor()(image).flatten()\n",
        "        predictions = model(image_as_flattened_tensor)\n",
        "        # We need to transform the predictions from a tensor into a numpy array so that we can easily work with them\n",
        "        predictions_as_numpy_array = predictions.detach().numpy()\n",
        "        predicted_label = predictions_as_numpy_array.argmax()\n",
        "        if (predicted_label == label):\n",
        "            score += 1\n",
        "\n",
        "        test_score += 1\n",
        "        test_items += 1\n",
        "\n",
        "    test_accuracy = test_score/test_items * 100      \n",
        "    test_accuracies.append(test_accuracy)\n",
        "    \n",
        "    print(f'Epoch {epoch+1}: Train Accuracy: {train_accuracy:.2f}, Test Accuracy: {test_accuracy:.2f}')\n",
        "    \n",
        "# Plot the accuracy over epochs\n",
        "plt.plot(train_accuracies, label='Train Accuracy')\n",
        "plt.plot(test_accuracies, label='Test Accuracy')\n",
        "plt.xlabel('Epochs')\n",
        "plt.ylabel('Accuracy')\n",
        "plt.legend()\n",
        "plt.show()"
      ]
    },
    {
      "cell_type": "markdown",
      "metadata": {
        "id": "PJPWkLptdAzo"
      },
      "source": [
        "😈😈😈**Break the System**😈😈😈\n",
        "\n",
        "Come up with minor changes to the input the data(the images) that won't affect humans but break the system(i.e. yield much lower accuracy). For example, you could try what happens when you invert the images or change the gray colors. Be creative! :)\n"
      ]
    }
  ],
  "metadata": {
    "accelerator": "GPU",
    "colab": {
      "provenance": []
    },
    "gpuClass": "standard",
    "kernelspec": {
      "display_name": "Python 3",
      "name": "python3"
    },
    "language_info": {
      "codemirror_mode": {
        "name": "ipython",
        "version": 3
      },
      "file_extension": ".py",
      "mimetype": "text/x-python",
      "name": "python",
      "nbconvert_exporter": "python",
      "pygments_lexer": "ipython3",
      "version": "3.8.16"
    }
  },
  "nbformat": 4,
  "nbformat_minor": 0
}
